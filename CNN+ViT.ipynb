{
  "nbformat": 4,
  "nbformat_minor": 0,
  "metadata": {
    "colab": {
      "provenance": [],
      "gpuType": "T4"
    },
    "kernelspec": {
      "name": "python3",
      "display_name": "Python 3"
    },
    "language_info": {
      "name": "python"
    },
    "accelerator": "GPU"
  },
  "cells": [
    {
      "cell_type": "code",
      "execution_count": null,
      "metadata": {
        "id": "C0sGhfb03GgJ"
      },
      "outputs": [],
      "source": [
        "import numpy as np\n",
        "import matplotlib.pyplot as plt\n",
        "import time\n",
        "import os\n",
        "import copy\n",
        "import pdb\n",
        "\n",
        "# pytorch imports\n",
        "import torch\n",
        "import torch.nn as nn\n",
        "import torch.nn.functional as F\n",
        "from torch.utils.data import DataLoader, Dataset, random_split\n",
        "from torchvision.datasets import ImageFolder\n",
        "from torchvision import models, transforms"
      ]
    },
    {
      "cell_type": "code",
      "source": [
        "seed = 211\n",
        "np.random.seed(seed)\n",
        "torch.manual_seed(seed)\n",
        "torch.cuda.manual_seed(seed)\n",
        "\n",
        "# Data augmentation and normalization for training\n",
        "# Just normalization for validation\n",
        "data_transforms = {\n",
        "    'train': transforms.Compose([\n",
        "        transforms.RandomResizedCrop(224),\n",
        "        transforms.RandomRotation(10),\n",
        "        transforms.RandomHorizontalFlip(),\n",
        "        transforms.RandomAffine(degrees=0, scale=(1.0, 1.1), shear=0),      # zoom\n",
        "        transforms.ToTensor(),\n",
        "        transforms.Normalize([0.485, 0.456, 0.406], [0.229, 0.224, 0.225])\n",
        "    ]),\n",
        "    'test': transforms.Compose([\n",
        "        transforms.Resize(256),\n",
        "        transforms.CenterCrop(224),\n",
        "        transforms.ToTensor(),\n",
        "        transforms.Normalize([0.485, 0.456, 0.406], [0.229, 0.224, 0.225])\n",
        "    ]),\n",
        "}"
      ],
      "metadata": {
        "id": "KsAyh0pJ3KFd"
      },
      "execution_count": null,
      "outputs": []
    },
    {
      "cell_type": "code",
      "source": [
        "batch_size = 128     # 32/64/128\n",
        "data_dir = './drive/MyDrive/deep learn/project/dataset'   # change to your directory\n",
        "image_datasets = {x: ImageFolder(os.path.join(data_dir, x), data_transforms[x]) for x in ['train', 'test']}\n",
        "val_size = int(0.2 * len(image_datasets['train']))\n",
        "train_size = len(image_datasets['train']) - val_size\n",
        "train_set, val_set = random_split(image_datasets['train'], [train_size, val_size])\n",
        "train_loader = DataLoader(train_set, batch_size=batch_size, shuffle=True, num_workers=4)\n",
        "val_loader = DataLoader(val_set, batch_size=batch_size, shuffle=True, num_workers=4)\n",
        "test_loader = DataLoader(image_datasets['test'], batch_size=batch_size, shuffle=True, num_workers=4)\n",
        "dataloaders = {\n",
        "    'train': train_loader,\n",
        "    'val': val_loader,\n",
        "    'test': test_loader\n",
        "}\n",
        "class_names = image_datasets['train'].classes\n",
        "\n",
        "device = torch.device(\"cuda:0\" if torch.cuda.is_available() else \"cpu\")\n",
        "print(device)"
      ],
      "metadata": {
        "colab": {
          "base_uri": "https://localhost:8080/"
        },
        "id": "Hr3KZ2Dc3KTw",
        "outputId": "4f5d5bfc-d457-4d40-ad3e-21a273598228"
      },
      "execution_count": null,
      "outputs": [
        {
          "output_type": "stream",
          "name": "stdout",
          "text": [
            "cpu\n"
          ]
        },
        {
          "output_type": "stream",
          "name": "stderr",
          "text": [
            "/usr/local/lib/python3.10/dist-packages/torch/utils/data/dataloader.py:558: UserWarning: This DataLoader will create 4 worker processes in total. Our suggested max number of worker in current system is 2, which is smaller than what this DataLoader is going to create. Please be aware that excessive worker creation might get DataLoader running slow or even freeze, lower the worker number to avoid potential slowness/freeze if necessary.\n",
            "  warnings.warn(_create_warning_msg(\n"
          ]
        }
      ]
    },
    {
      "cell_type": "code",
      "source": [
        "def set_parameter_requires_grad(model, feature_extracting=False):\n",
        "\n",
        "  if feature_extracting:\n",
        "      # frozen model\n",
        "      model.requires_grad_(False)\n",
        "  else:\n",
        "      # fine-tuning\n",
        "      model.requires_grad_(True)"
      ],
      "metadata": {
        "id": "1ENwAjhE4cGt"
      },
      "execution_count": null,
      "outputs": []
    },
    {
      "cell_type": "code",
      "source": [
        "# for LoRA/DoRA\n",
        "class LowRankLayer(nn.Module):\n",
        "    def __init__(self, linear, rank, alpha, use_dora=True):\n",
        "        super().__init__()\n",
        "        # rank: controls the inner dimension of the matrices A and B; controls the number of additional parameters introduced by LoRA,\n",
        "        # a key factor in determining the balance between model adaptability and parameter efficiency.\n",
        "        # alpha: a scaling hyper-parameter applied to the output of the low-rank adaptation,\n",
        "        # controls the extent to which the adapted layer's output is allowed to influence the original output of the layer being adapted.\n",
        "\n",
        "        self.use_dora = use_dora\n",
        "        self.rank = rank  # low-rank\n",
        "        self.alpha = alpha  # scaling hyper-parameter\n",
        "        self.linear = linear\n",
        "        self.in_dim = linear.in_features\n",
        "        self.out_dim = linear.out_features\n",
        "\n",
        "        # weights\n",
        "        std_dev = 1 / torch.sqrt(torch.tensor(self.rank).float())\n",
        "        self.A = nn.Parameter(torch.randn(self.in_dim, self.rank) * std_dev)\n",
        "        self.B = nn.Parameter(torch.zeros(self.rank, self.out_dim))\n",
        "\n",
        "        if self.use_dora:\n",
        "            self.m = nn.Parameter(\n",
        "                self.linear.weight.norm(p=2, dim=0, keepdim=True))\n",
        "        else:\n",
        "            self.m = None\n",
        "\n",
        "    def forward(self, x):\n",
        "        lora = self.A @ self.B  # combine LoRA matrices\n",
        "        if self.use_dora:\n",
        "            numerator = self.linear.weight + self.alpha * lora.T\n",
        "            denominator = numerator.norm(p=2, dim=0, keepdim=True)\n",
        "            directional_component = numerator / denominator\n",
        "            new_weight = self.m * directional_component\n",
        "            return F.linear(x, new_weight, self.linear.bias)\n",
        "        else:\n",
        "            # combine LoRA with orig. weights\n",
        "            combined_weight = self.linear.weight + self.alpha * lora.T\n",
        "            return F.linear(x, combined_weight, self.linear.bias)"
      ],
      "metadata": {
        "id": "fq36EGM04fcc"
      },
      "execution_count": null,
      "outputs": []
    },
    {
      "cell_type": "code",
      "source": [
        "def initialize_model(model_name, num_classes, feature_extract, use_pretrained=True, DoRA=False):\n",
        "    # Initialize these variables which will be set in this if statement. Each of these\n",
        "    #   variables is model specific.\n",
        "    model_ft = None\n",
        "    input_size = 0  # image size, e.g. (3, 224, 224)\n",
        "    weights = 'DEFAULT' if use_pretrained else None\n",
        "    if model_name == \"mobile net 2\":\n",
        "        model_ft = models.mobilenet_v2(weights=weights)\n",
        "        set_parameter_requires_grad(model_ft, feature_extract)\n",
        "        if DoRA:\n",
        "            rank, alpha = 4, 8\n",
        "            model_ft.classifier[0] = LowRankLayer(model_ft.classifier[0], rank, alpha, use_dora=True)\n",
        "        num_ftrs = model_ft.classifier[1].in_features       # 1280\n",
        "        model_ft.classifier[1] = nn.Linear(num_ftrs, num_classes)  # replace the last FC layer\n",
        "        input_size = 224\n",
        "\n",
        "    elif model_name == \"mobile net 3 large\":\n",
        "        model_ft = models.mobilenet_v3_large(weights=weights)\n",
        "        set_parameter_requires_grad(model_ft, feature_extract)\n",
        "        if DoRA:\n",
        "            rank, alpha = 4, 8\n",
        "            model_ft.classifier[0] = LowRankLayer(model_ft.classifier[0], rank, alpha, use_dora=True)\n",
        "        num_ftrs = model_ft.classifier[3].in_features       # 1280\n",
        "        model_ft.classifier[3] = nn.Linear(num_ftrs, num_classes)\n",
        "        input_size = 224\n",
        "\n",
        "    elif model_name == \"mobile net 3 small\":\n",
        "        model_ft = models.mobilenet_v3_small(weights=weights)\n",
        "        set_parameter_requires_grad(model_ft, feature_extract)\n",
        "        if DoRA:\n",
        "            rank, alpha = 4, 8\n",
        "            model_ft.classifier[0] = LowRankLayer(model_ft.classifier[0], rank, alpha, use_dora=True)\n",
        "        num_ftrs = model_ft.classifier[3].in_features       # 1024\n",
        "        model_ft.classifier[3] = nn.Linear(num_ftrs, num_classes)\n",
        "        input_size = 224\n",
        "\n",
        "    elif model_name == \"squeezenet\":  # just to show 1X1 convolutional replacement instead of fully connected\n",
        "        model_ft = models.squeezenet1_0(weights=weights)\n",
        "        set_parameter_requires_grad(model_ft, feature_extract)\n",
        "        model_ft.classifier[1] = nn.Conv2d(512, num_classes, kernel_size=(1, 1), stride=(1, 1))\n",
        "        model_ft.num_classes = num_classes\n",
        "        input_size = 224\n",
        "\n",
        "    elif model_name == \"resnet50\":\n",
        "        model_ft = models.resnet50(weights=weights)\n",
        "        set_parameter_requires_grad(model_ft, feature_extract)\n",
        "        num_ftrs = model_ft.fc.in_features\n",
        "        model_ft.fc = nn.Linear(num_ftrs, num_classes)\n",
        "        input_size = 224\n",
        "\n",
        "    elif model_name == \"vit base 16\":       # visual transformer model\n",
        "        model_ft = models.vit_b_16(weights=weights)\n",
        "        set_parameter_requires_grad(model_ft, feature_extract)\n",
        "        num_ftrs = model_ft.heads[0].in_features\n",
        "        model_ft.heads[0] = nn.Linear(num_ftrs, num_classes)\n",
        "        input_size = 224\n",
        "\n",
        "    else:\n",
        "        raise NotImplementedError\n",
        "\n",
        "    return model_ft, input_size"
      ],
      "metadata": {
        "id": "PJFG1HjI3KaE"
      },
      "execution_count": null,
      "outputs": []
    },
    {
      "cell_type": "code",
      "source": [
        "MN_models = [\"mobile net 2\", \"mobile net 3 small\", \"mobile net 3 large\", \"squeezenet\", \"resnet50\", \"vit base 16\"]\n",
        "model_name = MN_models[2]\n",
        "num_classes = 2\n",
        "num_epochs = 15\n",
        "# Flag for feature extracting. When False, we fine-tune the whole model,\n",
        "# when True we only update the reshaped layer params\n",
        "feature_extract = True\n",
        "\n",
        "# Initialize the model for this run\n",
        "model_ft, input_size = initialize_model(model_name, num_classes, feature_extract, use_pretrained=True, DoRA=True)\n",
        "\n",
        "# Print the model we just instantiated\n",
        "# print(model_ft)"
      ],
      "metadata": {
        "id": "_9sASaC23KfQ"
      },
      "execution_count": null,
      "outputs": []
    },
    {
      "cell_type": "code",
      "source": [
        "model_ft = model_ft.to(device)\n",
        "\n",
        "params_to_update = model_ft.parameters()\n",
        "print(\"Params to learn:\")\n",
        "if feature_extract:\n",
        "    params_to_update = []  # override the initial list definition above\n",
        "    for name, param in model_ft.named_parameters():\n",
        "        if param.requires_grad == True:\n",
        "            params_to_update.append(param)\n",
        "            print(\"\\t\", name)\n",
        "else:\n",
        "    for name, param in model_ft.named_parameters():\n",
        "        if param.requires_grad == True:\n",
        "            print(\"\\t\", name)\n",
        "\n",
        "# Observe that all parameters are being optimized\n",
        "optimizer_ft = torch.optim.SGD(params_to_update, lr=0.001, momentum=0.9)"
      ],
      "metadata": {
        "colab": {
          "base_uri": "https://localhost:8080/"
        },
        "id": "6kZnOcfm3KjX",
        "outputId": "03378db7-629f-4432-c946-99e602928df8"
      },
      "execution_count": null,
      "outputs": [
        {
          "output_type": "stream",
          "name": "stdout",
          "text": [
            "Params to learn:\n",
            "\t classifier.0.A\n",
            "\t classifier.0.B\n",
            "\t classifier.0.m\n",
            "\t classifier.3.weight\n",
            "\t classifier.3.bias\n"
          ]
        }
      ]
    },
    {
      "cell_type": "code",
      "source": [
        "# training function\n",
        "def train_model(model, dataloaders, criterion, optimizer, num_epochs=25):\n",
        "    since = time.time()\n",
        "    model = model.to(device)\n",
        "\n",
        "    train_loss, train_acc, val_loss, val_acc = [], [], [], []\n",
        "    history = [train_loss, train_acc, val_loss, val_acc]\n",
        "\n",
        "\n",
        "    best_model_wts = copy.deepcopy(model.state_dict())\n",
        "    best_acc = 0.0\n",
        "\n",
        "    for epoch in range(num_epochs):\n",
        "        print('Epoch {}/{}'.format(epoch, num_epochs - 1))\n",
        "        print('-' * 10)\n",
        "\n",
        "        # Each epoch has a training and validation phase\n",
        "        for phase in ['train', 'val']:\n",
        "            if phase == 'train':\n",
        "                model.train()  # Set model to training mode\n",
        "            else:\n",
        "                model.eval()   # Set model to evaluate mode\n",
        "\n",
        "            running_loss = 0.0\n",
        "            running_corrects = 0\n",
        "\n",
        "            # Iterate over data.\n",
        "            for inputs, labels in dataloaders[phase]:\n",
        "                inputs = inputs.to(device)\n",
        "                labels = labels.to(device)\n",
        "\n",
        "                # forward\n",
        "                # track history if only in train\n",
        "                with torch.set_grad_enabled(phase == 'train'):\n",
        "                    # Get model outputs and calculate loss\n",
        "                    outputs = model(inputs)\n",
        "                    loss = criterion(outputs, labels)\n",
        "\n",
        "                    _, preds = torch.max(outputs, 1)\n",
        "\n",
        "                    # backward + optimize only if in training phase\n",
        "                    if phase == 'train':\n",
        "                        # zero the parameter gradients\n",
        "                        optimizer.zero_grad()\n",
        "                        loss.backward()\n",
        "                        optimizer.step()\n",
        "\n",
        "                # statistics\n",
        "                running_loss += loss.item() * inputs.size(0)\n",
        "                running_corrects += torch.sum(preds == labels.data)\n",
        "\n",
        "            epoch_loss = running_loss / len(dataloaders[phase].dataset)\n",
        "            epoch_acc = running_corrects.double() / len(dataloaders[phase].dataset)\n",
        "\n",
        "            print('{} Loss: {:.4f} Acc: {:.4f}'.format(phase, epoch_loss, epoch_acc))\n",
        "\n",
        "            if phase == 'train':\n",
        "                train_loss.append(epoch_loss), train_acc.append(epoch_acc)\n",
        "\n",
        "                # deep copy the model\n",
        "            if phase == 'val' and epoch_acc > best_acc:\n",
        "                best_acc = epoch_acc\n",
        "                best_model_wts = copy.deepcopy(model.state_dict())\n",
        "            if phase == 'val':\n",
        "                val_loss.append(epoch_loss), val_acc.append(epoch_acc)\n",
        "\n",
        "        print()\n",
        "\n",
        "    time_elapsed = time.time() - since\n",
        "    print('Training complete in {:.0f}m {:.0f}s'.format(time_elapsed // 60, time_elapsed % 60))\n",
        "    print('Best val Acc: {:4f}'.format(best_acc))\n",
        "\n",
        "    # load best model weights\n",
        "    model.load_state_dict(best_model_wts)\n",
        "    return model, history, time_elapsed          # time in seconds\n",
        "\n",
        "\n"
      ],
      "metadata": {
        "id": "ckIwp0PX3Kmk"
      },
      "execution_count": null,
      "outputs": []
    },
    {
      "cell_type": "code",
      "source": [
        "# Setup the loss fn\n",
        "criterion = nn.CrossEntropyLoss()\n",
        "\n",
        "# Train and evaluate\n",
        "model_ft, history, model_time = train_model(model_ft, dataloaders, criterion, optimizer_ft, num_epochs=num_epochs)"
      ],
      "metadata": {
        "colab": {
          "base_uri": "https://localhost:8080/"
        },
        "id": "F7ww1sNF3Kpn",
        "outputId": "05744cee-a689-44fe-8a61-32866c199cc3"
      },
      "execution_count": null,
      "outputs": [
        {
          "output_type": "stream",
          "name": "stdout",
          "text": [
            "Epoch 0/14\n",
            "----------\n",
            "train Loss: 0.7282 Acc: 0.4479\n",
            "val Loss: 0.7464 Acc: 0.5060\n",
            "\n",
            "Epoch 1/14\n",
            "----------\n",
            "train Loss: 0.6961 Acc: 0.5476\n",
            "val Loss: 0.6634 Acc: 0.5833\n",
            "\n",
            "Epoch 2/14\n",
            "----------\n",
            "train Loss: 0.6830 Acc: 0.5417\n",
            "val Loss: 0.6532 Acc: 0.6131\n",
            "\n",
            "Epoch 3/14\n",
            "----------\n",
            "train Loss: 0.6586 Acc: 0.5923\n",
            "val Loss: 0.6441 Acc: 0.5952\n",
            "\n",
            "Epoch 4/14\n",
            "----------\n",
            "train Loss: 0.6444 Acc: 0.6190\n",
            "val Loss: 0.6173 Acc: 0.6726\n",
            "\n",
            "Epoch 5/14\n",
            "----------\n",
            "train Loss: 0.6283 Acc: 0.6295\n",
            "val Loss: 0.6289 Acc: 0.6905\n",
            "\n",
            "Epoch 6/14\n",
            "----------\n",
            "train Loss: 0.6186 Acc: 0.6562\n",
            "val Loss: 0.6524 Acc: 0.6488\n",
            "\n",
            "Epoch 7/14\n",
            "----------\n",
            "train Loss: 0.6215 Acc: 0.6518\n",
            "val Loss: 0.6148 Acc: 0.6786\n",
            "\n",
            "Epoch 8/14\n",
            "----------\n",
            "train Loss: 0.6094 Acc: 0.6741\n",
            "val Loss: 0.6133 Acc: 0.6667\n",
            "\n",
            "Epoch 9/14\n",
            "----------\n",
            "train Loss: 0.5828 Acc: 0.6860\n",
            "val Loss: 0.6311 Acc: 0.6310\n",
            "\n",
            "Epoch 10/14\n",
            "----------\n",
            "train Loss: 0.5844 Acc: 0.6935\n",
            "val Loss: 0.6200 Acc: 0.6726\n",
            "\n",
            "Epoch 11/14\n",
            "----------\n",
            "train Loss: 0.5758 Acc: 0.6920\n",
            "val Loss: 0.5915 Acc: 0.7024\n",
            "\n",
            "Epoch 12/14\n",
            "----------\n",
            "train Loss: 0.5654 Acc: 0.7128\n",
            "val Loss: 0.6019 Acc: 0.6548\n",
            "\n",
            "Epoch 13/14\n",
            "----------\n",
            "train Loss: 0.5799 Acc: 0.6875\n",
            "val Loss: 0.5883 Acc: 0.6845\n",
            "\n",
            "Epoch 14/14\n",
            "----------\n",
            "train Loss: 0.5635 Acc: 0.7039\n",
            "val Loss: 0.5574 Acc: 0.7321\n",
            "\n",
            "Training complete in 8m 22s\n",
            "Best val Acc: 0.732143\n"
          ]
        }
      ]
    },
    {
      "cell_type": "code",
      "source": [
        "# plot and save the best model\n",
        "def plot_test_results(hist):\n",
        "\n",
        "    epochs = len(hist[0])\n",
        "\n",
        "    fig, axes = plt.subplots(1, 2, figsize=(10, 6))\n",
        "\n",
        "    axes[0].plot(range(1, epochs + 1), hist[0], label='Training')\n",
        "    axes[0].plot(range(1, epochs + 1), hist[2], label='Validation')\n",
        "    axes[0].set_xlabel('Epoch')\n",
        "    axes[0].set_title('Loss')\n",
        "    axes[0].legend(loc='best')\n",
        "\n",
        "\n",
        "    axes[1].plot(range(1, epochs + 1), hist[1], label='Training')\n",
        "    axes[1].plot(range(1, epochs + 1), hist[3], label='Validation')\n",
        "    axes[1].set_xlabel('Epoch')\n",
        "    axes[1].set_title('Accuracy')\n",
        "    axes[1].legend(loc='best')\n",
        "\n",
        "    plt.tight_layout()\n",
        "    plt.show()\n",
        "\n",
        "plot_test_results(history)"
      ],
      "metadata": {
        "colab": {
          "base_uri": "https://localhost:8080/",
          "height": 607
        },
        "id": "1Pi8wqxF30RG",
        "outputId": "0d1bc7b2-4de7-477f-f3e1-9ae3b3c5857f"
      },
      "execution_count": null,
      "outputs": [
        {
          "output_type": "display_data",
          "data": {
            "text/plain": [
              "<Figure size 1000x600 with 2 Axes>"
            ],
            "image/png": "[encoded data removed]"
          },
          "metadata": {}
        }
      ]
    },
    {
      "cell_type": "code",
      "source": [
        "model_save_dir = './drive/MyDrive/deep learn/project/CNN_models'      # change to your directory\n",
        "model_save_name = 'model_MN3s_bz_128_ep_15_fe_DoRA.pth'\n",
        "model_save_path = os.path.join(model_save_dir, model_save_name)\n",
        "torch.save(model_ft.state_dict(), model_save_path)"
      ],
      "metadata": {
        "id": "SAWwe7u53Ksw"
      },
      "execution_count": null,
      "outputs": []
    },
    {
      "cell_type": "code",
      "source": [
        "# load the best model\n",
        "# error: datatype is 'Incompatible keys' although 'All keys matched successfully'. don't know why...\n",
        "# so can't load saved results, only run again and use the currect results.\n",
        "best_model, _ = initialize_model(model_name, num_classes, feature_extract, use_pretrained=True, DoRA=False)\n",
        "best_model = best_model.load_state_dict(torch.load(model_save_path))"
      ],
      "metadata": {
        "colab": {
          "base_uri": "https://localhost:8080/"
        },
        "id": "_YqHX3yR216l",
        "outputId": "17ee94d7-d49a-4720-a863-9483a336bac3"
      },
      "execution_count": null,
      "outputs": [
        {
          "output_type": "execute_result",
          "data": {
            "text/plain": [
              "<All keys matched successfully>"
            ]
          },
          "metadata": {},
          "execution_count": 46
        }
      ]
    },
    {
      "cell_type": "code",
      "source": [
        "# testing function\n",
        "def test_model(model, test_loader, criterion, optimizer, num_epochs=25):\n",
        "\n",
        "    model = model.to(device)\n",
        "    model.eval()\n",
        "    running_loss = 0.0\n",
        "    running_corrects = 0\n",
        "\n",
        "    # Iterate over data\n",
        "    for inputs, labels in test_loader:\n",
        "        inputs = inputs.to(device)\n",
        "        labels = labels.to(device)\n",
        "\n",
        "        # forward\n",
        "        with torch.set_grad_enabled(False):\n",
        "            # Get model outputs and calculate loss\n",
        "            outputs = model(inputs)\n",
        "            loss = criterion(outputs, labels)\n",
        "\n",
        "            _, preds = torch.max(outputs, 1)\n",
        "\n",
        "        # statistics\n",
        "        running_loss += loss.item() * inputs.size(0)\n",
        "        running_corrects += torch.sum(preds == labels.data)\n",
        "\n",
        "    loss = running_loss / len(test_loader.dataset)\n",
        "    acc = running_corrects.double() / len(test_loader.dataset)\n",
        "\n",
        "    print('Test Loss: {:.4f} Acc: {:.4f}'.format(loss, acc))\n",
        "\n",
        "    return loss, acc"
      ],
      "metadata": {
        "id": "StVge1VT3GFy"
      },
      "execution_count": null,
      "outputs": []
    },
    {
      "cell_type": "code",
      "source": [
        "# Evaluate on the test set\n",
        "best_model = model_ft\n",
        "test_loss, test_acc = test_model(best_model, dataloaders['test'], criterion, optimizer_ft, num_epochs=num_epochs)"
      ],
      "metadata": {
        "colab": {
          "base_uri": "https://localhost:8080/"
        },
        "id": "D7NLjKeG3Imp",
        "outputId": "718a5310-8ef0-4d51-8dac-f0b7da2d77ac"
      },
      "execution_count": null,
      "outputs": [
        {
          "output_type": "stream",
          "name": "stderr",
          "text": [
            "/usr/local/lib/python3.10/dist-packages/torch/utils/data/dataloader.py:558: UserWarning: This DataLoader will create 4 worker processes in total. Our suggested max number of worker in current system is 2, which is smaller than what this DataLoader is going to create. Please be aware that excessive worker creation might get DataLoader running slow or even freeze, lower the worker number to avoid potential slowness/freeze if necessary.\n",
            "  warnings.warn(_create_warning_msg(\n"
          ]
        },
        {
          "output_type": "stream",
          "name": "stdout",
          "text": [
            "Test Loss: 0.3763 Acc: 0.8936\n"
          ]
        }
      ]
    }
  ]
}